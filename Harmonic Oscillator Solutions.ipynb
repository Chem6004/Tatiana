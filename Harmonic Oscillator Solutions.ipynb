{
 "cells": [
  {
   "cell_type": "markdown",
   "metadata": {},
   "source": [
    "# Computational Exercise 1: A Vary Great, Very Harmonic, Wavefunction\n",
    "We will apply the Variational Method to the Harmonic Oscillator.  In particular, we will optimize\n",
    "the trial wavefunction given by \n",
    "\\begin{equation}\n",
    "\\Phi(x) = {\\rm exp}\\left( -\\alpha x^2 \\right),\n",
    "\\end{equation}\n",
    "where $\\alpha$ is an adjustable parameter that will be variationally optimized.  In particular, the goal\n",
    "will be to minimize the energy functional given by\n",
    "\\begin{equation}\n",
    "E[\\Phi(x)] = \\frac{\\int_{-\\infty}^{\\infty} \\Phi^* (x) \\: \\hat{H} \\: \\Phi(x) dx }{\\int_{-\\infty}^{\\infty} \\Phi^* (x) \\: \\Phi(x) dx }\n",
    "\\end{equation}\n",
    "by modulating the trial wavefunction through the adjustable parameter $\\alpha$.\n",
    "\n",
    "The Hamiltonian operator for Harmonic Oscillator is given by \n",
    "\\begin{equation}\n",
    "\\hat{H} = -\\frac{\\hbar^2}{2m} \\frac{d^2}{dx^2} + \\frac{1}{2} k \\: x^2.\n",
    "\\end{equation}\n",
    "We will use a system of natural units where $\\hbar = 1$, the mass of the particle $m = 1$, and the force constant of\n",
    "the potential $k = 1$.\n",
    "\n",
    "### Questions Answered\n",
    "1. What is the optimal value of $E[\\Phi(x)]$ in natural units?  How does this value compare to the true ground state energy of the Harmonic Oscillator?\n",
    "\n",
    "*Answer*  The optimal value of $E[\\Phi(x)]$ to 4 significan figures is $0.4996$ a.u.; this agrees with the \n",
    "true ground state energy of $0.5$ atomic units.\n",
    "\n",
    "2. What is the optimal value of $\\alpha$ in natural units?  How does $\\Phi(x)$ with this value of $\\alpha$ compare to the true ground state wavefunction?\n",
    "\n",
    "*Answer* The optimal value of $\\alpha$ to 4 significant figures is $0.4987$ atomic units, which agrees with\n",
    "the true ground state wavefunction, which has $\\alpha = 0.5$ atomic units.\n",
    "\n",
    "3. What is the kinetic energy expectation value of the optimized trial wavefunction in natural units?\n",
    "\n",
    "*Answer* The kinetic energy expectation value when $\\alpha \\approx 0.5$ is $\\approx 0.25$ atomic units.\n",
    "\n",
    "4. What is the potential energy expectation value of the optimized trial wavefunction in natural units?\n",
    "\n",
    "*Answer* The potential energy expectation value when $\\alpha \\approx 0.5$ is $\\approx 0.25$ atomic units.\n",
    "\n",
    "\n",
    "### (Hopefully) Helpful Hints\n",
    "You can represent your trial wavefunction numerically on the computer by creating an array of x-values, evaluating\n",
    "the formula for your trial wavefunction at each of those x-values, and then storing each of those function values in another array.  The following lines of code will do this using $numpy$ arrays and the $numpy.exp$ function. \n",
    "\n",
    "### Solutions\n",
    "First let's initialize the trial wavefunction with a particular value of $\\alpha$; might as well pick $\\alpha = 1$!\n",
    "The following code-block will create this trial wavefunction and plot it against the potential."
   ]
  },
  {
   "cell_type": "code",
   "execution_count": 4,
   "metadata": {},
   "outputs": [
    {
     "data": {
      "image/png": "[encoded data removed]",
      "text/plain": [
       "<Figure size 432x288 with 1 Axes>"
      ]
     },
     "metadata": {
      "needs_background": "light"
     },
     "output_type": "display_data"
    }
   ],
   "source": [
    "import numpy as np\n",
    "from matplotlib import pyplot as plt\n",
    "### create an array of 1000 x-values between x=-20 and x=20 atomic units\n",
    "x_array = np.linspace(-20,20,1000)\n",
    "### pick a trial value of alpha... might as well be 1 atomic unit!\n",
    "alpha = 1.0\n",
    "### evaluate your trial wavefunction at each of the x-values stored in the array called 'x_array'\n",
    "Phi = np.exp(-alpha * x_array**2)\n",
    "Vx = 1/2. * x_array **2\n",
    "\n",
    "plt.plot(x_array, Phi, 'red', label='Trial')\n",
    "plt.plot(x_array, Vx, 'green', label='Potential')\n",
    "plt.xlim(-5,5)\n",
    "plt.ylim(0,10)\n",
    "plt.legend()\n",
    "plt.show()\n",
    "\n"
   ]
  },
  {
   "cell_type": "markdown",
   "metadata": {},
   "source": [
    "Next we need to be able to evaluate the expectation values of energy with a given trial wavefunction; to do so we will have to evaluate expectation values with the kinetic and potential energy operators.\n",
    "To evaluate the kinetic energy of a trial wavefunction, we will need to take the second derivative of the trial wavefunction.\n",
    "One way to take derivatives on a computer is to use the method of finite differences.  In particular, the forward finite difference\n",
    "approximation to the first derivative of your trial wavefunction $\\Phi(x)$ at the point $x_0$ can be written symbolically as\n",
    "\\begin{equation}\n",
    "\\frac{d \\Phi(x_0)}{dx} = \\frac{\\Phi(x_0 + dx) - \\Phi(x_0)}{dx}\n",
    "\\end{equation}\n",
    "where in our code, $dx$ will be determined by the range of x-values and the number of x-values used in defining\n",
    "$x_{array}$.\n",
    "\n",
    "The following block contains a function that takes the first derivivative using forward finite differences,\n",
    "a function that uses this differentiation function to apply the kinetic energy operator to a trial\n",
    "wavefunction, a function that applies the potential energy operator to a trial wavefunction, and functions\n",
    "that compute the expectation values for kinetic, potential, and total energy.\n"
   ]
  },
  {
   "cell_type": "code",
   "execution_count": 5,
   "metadata": {},
   "outputs": [],
   "source": [
    "### differentiation function\n",
    "def dfdx(fx, x):\n",
    "    ### loop through values of fx and x and use forward finite-differences \n",
    "    ### to compute the d/dx of fx at each point and store in an array called 'fxp'\n",
    "    ### make sure to poperly handle\n",
    "    ### the last point where f(x_0 + dx) is not stored\n",
    "    ### create a numpy array called fxp that has the same length\n",
    "    ### and data type as the array of function values you are differentiating\n",
    "    fxp = np.zeros_like(fx)\n",
    "    \n",
    "    for i in range(0,len(x)-1):\n",
    "        rise = fx[i+1]-fx[i]\n",
    "        run = x[i+1]-x[i]\n",
    "        slope = rise/run\n",
    "        fxp[i] = slope\n",
    "\n",
    "    ### once you have computed all fxp values, return the array!\n",
    "    return fxp\n",
    "\n",
    "### compute kinetic energy operator on a trial wavefunction fx\n",
    "def TPhi(fx,x):\n",
    "    # This take the first derivative of fx and stores it as fxp\n",
    "    fxp= dfdx(fx,x)\n",
    "    # this takes the first derivative of fxp and stores it as fxpp\n",
    "    fxpp=dfdx(fxp,x)\n",
    "    # now return second derivative of fx multiplies by -1/2\n",
    "    return -1/2*fxpp\n",
    "\n",
    "### compute potential energy operator on trial wavefunction fx\n",
    "def VPhi(fx,x):\n",
    "    return 1/2*x**2*fx\n",
    "\n",
    "### compute total energy operator on trial wavefunction\n",
    "def HPhi(fx,x):\n",
    "    return TPhi(fx,x) + VPhi(fx,x)\n",
    "\n",
    "### Function will take our trial wavefunction and our grid of \n",
    "### x values and return the energy expectation value\n",
    "### using rectangular rule for the integrals!\n",
    "def E_of_Phi(fx,x):\n",
    "    ###get my dx value!\n",
    "    dx= x[1]-x[0]\n",
    "    ### get my numerator function!\n",
    "    hp = HPhi(fx,x)\n",
    "    phi_star = np.conj(fx)\n",
    "    num_func = phi_star*hp\n",
    "    ### get my denominator function \n",
    "    den_func = phi_star*fx\n",
    "    \n",
    "    ### define numerator sum variable\n",
    "    num_sum= 0.\n",
    "    ### define denominator sum variable \n",
    "    den_sum= 0.\n",
    "    ### perform the loop to comupte the rectangle-rule approzimation to th integrals!\n",
    "    for i in range(1,len(x)):\n",
    "        ### add the area of the numerator rectangle to num_sum \n",
    "        num_sum = num_sum + num_func[i] * dx\n",
    "        ### add the area of the denominator rectangle to den_sum \n",
    "        den_sum = den_sum + den_func[i] * dx\n",
    "    \n",
    "    return num_sum/den_sum\n",
    "\n",
    "### Function will take our trial wavefunction and our grid of \n",
    "### x values and return the kinetic energy expectation value\n",
    "### using rectangular rule for the integrals!\n",
    "def T_of_Phi(fx,x):\n",
    "    ###get my dx value!\n",
    "    dx= x[1]-x[0]\n",
    "    ### get my numerator function!\n",
    "    tp = TPhi(fx,x)\n",
    "    phi_star = np.conj(fx)\n",
    "    num_func = phi_star*tp\n",
    "    ### get my denominator function \n",
    "    den_func = phi_star*fx\n",
    "    \n",
    "    ### define numerator sum variable\n",
    "    num_sum= 0.\n",
    "    ### define denominator sum variable \n",
    "    den_sum= 0.\n",
    "    ### perform the loop to comupte the rectangle-rule approzimation to th integrals!\n",
    "    for i in range(1,len(x)):\n",
    "        ### add the area of the numerator rectangle to num_sum \n",
    "        num_sum = num_sum + num_func[i] * dx\n",
    "        ### add the area of the denominator rectangle to den_sum \n",
    "        den_sum = den_sum + den_func[i] * dx\n",
    "    \n",
    "    return num_sum/den_sum\n",
    "\n",
    "### Function will take our trial wavefunction and our grid of \n",
    "### x values and return the potential energy expectation value\n",
    "### using rectangular rule for the integrals!\n",
    "def V_of_Phi(fx,x):\n",
    "    ###get my dx value!\n",
    "    dx= x[1]-x[0]\n",
    "    ### get my numerator function!\n",
    "    vp = VPhi(fx,x)\n",
    "    phi_star = np.conj(fx)\n",
    "    num_func = phi_star*vp\n",
    "    ### get my denominator function \n",
    "    den_func = phi_star*fx\n",
    "    \n",
    "    ### define numerator sum variable\n",
    "    num_sum= 0.\n",
    "    ### define denominator sum variable \n",
    "    den_sum= 0.\n",
    "    ### perform the loop to comupte the rectangle-rule approzimation to th integrals!\n",
    "    for i in range(1,len(x)):\n",
    "        ### add the area of the numerator rectangle to num_sum \n",
    "        num_sum = num_sum + num_func[i] * dx\n",
    "        ### add the area of the denominator rectangle to den_sum \n",
    "        den_sum = den_sum + den_func[i] * dx\n",
    "    \n",
    "    return num_sum/den_sum"
   ]
  },
  {
   "cell_type": "markdown",
   "metadata": {},
   "source": [
    "Quick detour to validate our forward finite difference function.  Here we will compute the \n",
    "$\\frac{d \\Phi(x)}{dx}$ using our $dfdx$ function and analytically (or by Wolfram Alpha) and plot the two results to verify that they agree."
   ]
  },
  {
   "cell_type": "code",
   "execution_count": 6,
   "metadata": {},
   "outputs": [
    {
     "data": {
      "image/png": "[encoded data removed]",
      "text/plain": [
       "<Figure size 432x288 with 1 Axes>"
      ]
     },
     "metadata": {
      "needs_background": "light"
     },
     "output_type": "display_data"
    }
   ],
   "source": [
    "### Call dfdx on Phi to get the first derivative of Phi\n",
    "Phi_p = dfdx(Phi, x_array)\n",
    "\n",
    "Phi_wa = -2 * alpha * x_array * Phi\n",
    "\n",
    "plt.plot(x_array, Phi_p, 'red', label='dfdx result')\n",
    "plt.plot(x_array, Phi_wa, 'b--', label='Wolfram Alpha result')\n",
    "plt.legend()\n",
    "plt.show()\n",
    "\n",
    "\n",
    "### Call dfdx on Phi_p to get the second derivative of Phi\n",
    "Phi_pp = dfdx(Phi_p, x_array)"
   ]
  },
  {
   "cell_type": "markdown",
   "metadata": {},
   "source": [
    "Now let's scan through a reasonable range of $\\alpha$ values, perhaps between 0.05 and 1.0, and compute the kinetic, potential, and total energy expectation value for each to try to determine the variationally optimal value of $\\alpha$."
   ]
  },
  {
   "cell_type": "code",
   "execution_count": 14,
   "metadata": {},
   "outputs": [
    {
     "data": {
      "image/png": "[encoded data removed]",
      "text/plain": [
       "<Figure size 432x288 with 1 Axes>"
      ]
     },
     "metadata": {
      "needs_background": "light"
     },
     "output_type": "display_data"
    },
    {
     "name": "stdout",
     "output_type": "stream",
     "text": [
      " Minimum energy occurs at a value of alpha of 0.4987437185929648\n",
      " Minimum energy is  0.49965284712086927\n",
      " Kinetic Energy when alpha is  0.4987437185929648 is  0.24902312419895434\n",
      " Potential Energy when alpha is  0.4987437185929648 is  0.2506297229219144\n"
     ]
    }
   ],
   "source": [
    "alpha_array = np.linspace(0.05, 1.0, 200)\n",
    "v_vs_alpha = np.zeros_like(alpha_array)\n",
    "t_vs_alpha = np.zeros_like(alpha_array)\n",
    "e_vs_alpha = np.zeros_like(alpha_array)\n",
    "\n",
    "idx = 0 \n",
    "for a in alpha_array:\n",
    "    Phi = np.exp(-a * x_array**2)\n",
    "    e_vs_alpha[idx] = E_of_Phi(Phi,x_array)\n",
    "    t_vs_alpha[idx] = T_of_Phi(Phi,x_array)\n",
    "    v_vs_alpha[idx] = V_of_Phi(Phi,x_array)\n",
    "    idx+=1\n",
    "    \n",
    "plt.plot(alpha_array, e_vs_alpha, 'red')\n",
    "plt.plot(alpha_array, t_vs_alpha, 'blue')\n",
    "plt.plot(alpha_array, v_vs_alpha, 'purple')\n",
    "plt.show()\n",
    "\n",
    "### get the index of the minimum value of e_vs_alpha\n",
    "min_idx = np.argmin(e_vs_alpha)\n",
    "\n",
    "print(\" Minimum energy occurs at a value of alpha of\", alpha_array[min_idx])\n",
    "print(\" Minimum energy is \",e_vs_alpha[min_idx])\n",
    "print(\" Kinetic Energy when alpha is \",alpha_array[min_idx], \"is \", t_vs_alpha[min_idx])\n",
    "print(\" Potential Energy when alpha is \",alpha_array[min_idx], \"is \", v_vs_alpha[min_idx])\n",
    "    "
   ]
  },
  {
   "cell_type": "code",
   "execution_count": null,
   "metadata": {},
   "outputs": [],
   "source": []
  }
 ],
 "metadata": {
  "kernelspec": {
   "display_name": "Python 3",
   "language": "python",
   "name": "python3"
  },
  "language_info": {
   "codemirror_mode": {
    "name": "ipython",
    "version": 3
   },
   "file_extension": ".py",
   "mimetype": "text/x-python",
   "name": "python",
   "nbconvert_exporter": "python",
   "pygments_lexer": "ipython3",
   "version": "3.7.4"
  }
 },
 "nbformat": 4,
 "nbformat_minor": 2
}
